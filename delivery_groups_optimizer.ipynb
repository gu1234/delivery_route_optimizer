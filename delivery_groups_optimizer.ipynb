{
 "cells": [
  {
   "cell_type": "code",
   "execution_count": 64,
   "metadata": {},
   "outputs": [],
   "source": [
    "import pandas as pd\n",
    "import numpy as np\n",
    "import math\n",
    "import matplotlib.pyplot as plt\n",
    "from sklearn.cluster import KMeans\n",
    "import seaborn as sns; sns.set()\n",
    "import csv\n",
    "from math import sin, cos, sqrt, atan2, radians\n"
   ]
  },
  {
   "cell_type": "code",
   "execution_count": 65,
   "metadata": {},
   "outputs": [],
   "source": [
    "def get_distance(addr1, addr2):\n",
    "    return _get_distance(addr1['latitude'], addr1['longitude'], addr2['latitude'], addr2['longitude'])\n",
    "    \n",
    "def _get_distance(lon1, lat1, lon2, lat2):\n",
    "    # approximate radius of earth in km\n",
    "    R = 6373.0\n",
    "\n",
    "    lon1 = radians(lon1)\n",
    "    lat1 = radians(lat1)\n",
    "    lon2 = radians(lon2)\n",
    "    lat2 = radians(lat2)\n",
    "\n",
    "    dlon = lon2 - lon1\n",
    "    dlat = lat2 - lat1\n",
    "\n",
    "    a = sin(dlat / 2) ** 2 + cos(lat1) * cos(lat2) * sin(dlon / 2) ** 2\n",
    "    c = 2 * atan2(sqrt(a), sqrt(1 - a))\n",
    "\n",
    "    return R * c"
   ]
  },
  {
   "cell_type": "code",
   "execution_count": 66,
   "metadata": {},
   "outputs": [
    {
     "name": "stdout",
     "output_type": "stream",
     "text": [
      "[[428], [492], [409], [444], [404], [410], [422], [521], [476], [518], [509], [473], [552]]\n"
     ]
    }
   ],
   "source": [
    "ADDRESSES_PER_ROUTE = 12\n",
    "\n",
    "df = pd.read_csv('cords.csv')\n",
    "df['visited'] = False\n",
    "df.head(3)\n",
    "\n",
    "number_of_routes = math.ceil(df['id'].count()/ADDRESSES_PER_ROUTE)\n",
    "initial_groups = df['id'].sample(n=number_of_routes)\n",
    "# df.loc[df.id.isin(initial_groups.values)] = 1\n",
    "\n",
    "# this can be done without a loop\n",
    "for i in range(len(initial_groups.values)):\n",
    "    df.loc[df['id'] == initial_groups.values[i], 'visited'] = True\n",
    "\n",
    "groups = [ [group] for group in initial_groups.array ]\n",
    "\n",
    "# pd.set_option('display.max_rows', df.shape[0]+1)\n",
    "\n",
    "print(groups)\n",
    "# df"
   ]
  },
  {
   "cell_type": "code",
   "execution_count": 67,
   "metadata": {},
   "outputs": [
    {
     "name": "stdout",
     "output_type": "stream",
     "text": [
      "[428]\n",
      "[492]\n",
      "[409]\n",
      "[444]\n",
      "[404]\n",
      "[410]\n",
      "[422]\n",
      "[521]\n",
      "[476]\n",
      "[518]\n",
      "[509]\n",
      "[473]\n",
      "[552]\n"
     ]
    }
   ],
   "source": [
    "groups = [ [group] for group in initial_groups.array ]\n",
    "\n",
    "not_yet_visited = df[df.visited == False]['id']\n",
    "\n",
    "for address_id in not_yet_visited[:]:\n",
    "    current_address = df[df.id==address_id]\n",
    "#     print(current_address)\n",
    "#     print(address_id)\n",
    "    \n",
    "    min_distance = math.inf\n",
    "    potential_group = None\n",
    "    \n",
    "    for group in groups:\n",
    "        if len(group) < ADDRESSES_PER_ROUTE:\n",
    "            for temp_address_id in group:\n",
    "                temp_address = df[df.id==temp_address_id]\n",
    "                distance = get_distance(temp_address, current_address)\n",
    "                if distance < min_distance:\n",
    "                    min_distance = distance\n",
    "                    potential_group = group\n",
    "#     print(min_distance)\n",
    "#     if min_distance < 0.5:\n",
    "#         potential_group.append(address_id)\n",
    "        \n",
    "for g in groups:\n",
    "    print(g)"
   ]
  },
  {
   "cell_type": "code",
   "execution_count": 68,
   "metadata": {},
   "outputs": [
    {
     "data": {
      "text/plain": [
       "<matplotlib.axes._subplots.AxesSubplot at 0x1312c47f0>"
      ]
     },
     "execution_count": 68,
     "metadata": {},
     "output_type": "execute_result"
    },
    {
     "data": {
      "image/png": "[encoded data removed]",
      "text/plain": [
       "<Figure size 720x720 with 2 Axes>"
      ]
     },
     "metadata": {},
     "output_type": "display_data"
    }
   ],
   "source": [
    "group_num = 0\n",
    "\n",
    "for group in groups:\n",
    "    for address_id in group:\n",
    "        df.loc[df['id'] == address_id, 'group_num'] = group_num\n",
    "    group_num += 1\n",
    "\n",
    "\n",
    "# X.plot.scatter(x = 'latitude', y = 'longitude', c=labels, s=25, cmap='viridis')\n",
    "# plt.scatter(centers[:, 0], centers[:, 1], c='black', s=30, alpha=0.5)\n",
    "# df\n",
    "plt.rcParams[\"figure.figsize\"]=10,10\n",
    "filtered_df.plot.scatter(x = 'latitude', y = 'longitude', c='group_num', s=15, cmap='Paired')"
   ]
  },
  {
   "cell_type": "code",
   "execution_count": null,
   "metadata": {},
   "outputs": [],
   "source": []
  }
 ],
 "metadata": {
  "kernelspec": {
   "display_name": "Python 3",
   "language": "python",
   "name": "python3"
  },
  "language_info": {
   "codemirror_mode": {
    "name": "ipython",
    "version": 3
   },
   "file_extension": ".py",
   "mimetype": "text/x-python",
   "name": "python",
   "nbconvert_exporter": "python",
   "pygments_lexer": "ipython3",
   "version": "3.7.3"
  }
 },
 "nbformat": 4,
 "nbformat_minor": 4
}
