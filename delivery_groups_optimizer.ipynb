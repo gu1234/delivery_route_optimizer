{
 "cells": [
  {
   "cell_type": "code",
   "execution_count": 32,
   "metadata": {},
   "outputs": [],
   "source": [
    "import pandas as pd\n",
    "import numpy as np\n",
    "import math\n",
    "import matplotlib.pyplot as plt\n",
    "from sklearn.cluster import KMeans\n",
    "import seaborn as sns; sns.set()\n",
    "import csv\n",
    "from math import sin, cos, sqrt, atan2, radians\n"
   ]
  },
  {
   "cell_type": "code",
   "execution_count": 33,
   "metadata": {},
   "outputs": [],
   "source": [
    "def get_distance(addr1, addr2):\n",
    "    return _get_distance(addr1['latitude'], addr1['longitude'], addr2['latitude'], addr2['longitude'])\n",
    "    \n",
    "def _get_distance(lon1, lat1, lon2, lat2):\n",
    "    # approximate radius of earth in km\n",
    "    R = 6373.0\n",
    "\n",
    "    lon1 = radians(lon1)\n",
    "    lat1 = radians(lat1)\n",
    "    lon2 = radians(lon2)\n",
    "    lat2 = radians(lat2)\n",
    "\n",
    "    dlon = lon2 - lon1\n",
    "    dlat = lat2 - lat1\n",
    "\n",
    "    a = sin(dlat / 2) ** 2 + cos(lat1) * cos(lat2) * sin(dlon / 2) ** 2\n",
    "    c = 2 * atan2(sqrt(a), sqrt(1 - a))\n",
    "\n",
    "    return R * c"
   ]
  },
  {
   "cell_type": "code",
   "execution_count": 34,
   "metadata": {},
   "outputs": [
    {
     "name": "stdout",
     "output_type": "stream",
     "text": [
      "[[424], [486], [407], [463], [540], [558], [532], [515], [428], [462], [454], [435], [535]]\n"
     ]
    }
   ],
   "source": [
    "ADDRESSES_PER_ROUTE = 12\n",
    "\n",
    "df = pd.read_csv('cords.csv')\n",
    "df['visited'] = False\n",
    "df.head(3)\n",
    "\n",
    "number_of_routes = math.ceil(df['id'].count()/ADDRESSES_PER_ROUTE)\n",
    "initial_groups = df['id'].sample(n=number_of_routes)\n",
    "# df.loc[df.id.isin(initial_groups.values)] = 1\n",
    "\n",
    "# this can be done without a loop\n",
    "for i in range(len(initial_groups.values)):\n",
    "    df.loc[df['id'] == initial_groups.values[i], 'visited'] = True\n",
    "\n",
    "groups = [ [group] for group in initial_groups.array ]\n",
    "\n",
    "# pd.set_option('display.max_rows', df.shape[0]+1)\n",
    "\n",
    "print(groups)\n",
    "# df"
   ]
  },
  {
   "cell_type": "code",
   "execution_count": 35,
   "metadata": {},
   "outputs": [
    {
     "name": "stdout",
     "output_type": "stream",
     "text": [
      "[424, 406, 410, 417, 423, 436, 438, 442, 449, 467, 482, 489]\n",
      "[486, 412, 446, 451, 455, 458, 470, 475, 478, 483, 484, 487]\n",
      "[407, 404, 405, 409, 413, 459, 460, 461, 468, 469, 471, 473]\n",
      "[463, 521, 541, 542, 543, 544, 545, 546, 547, 548, 549, 550]\n",
      "[540, 419, 420, 422, 425, 429, 433, 440, 441, 444, 445, 447]\n",
      "[558, 491, 492, 493, 495, 496, 497, 498, 500, 508, 509, 512]\n",
      "[532, 411, 416, 499, 507, 513, 514, 516, 518, 523, 528, 529]\n",
      "[515, 414, 485, 502, 510, 517, 522, 530, 533, 534, 536, 537]\n",
      "[428, 421, 427, 448, 450, 452, 453, 456, 472, 474, 476, 480]\n",
      "[462, 465, 501, 504, 506, 511, 519, 520, 524, 531, 538, 539]\n",
      "[454, 403, 408, 415, 418, 426, 430, 431, 432, 434, 437, 443]\n",
      "[435, 503, 505, 525, 551, 552, 466, 554, 555, 556, 557, 559]\n",
      "[535, 402, 479, 481, 553, 560, 561, 562]\n"
     ]
    }
   ],
   "source": [
    "groups = [ [group] for group in initial_groups.array ]\n",
    "\n",
    "not_yet_visited = df[df.visited == False]['id']\n",
    "\n",
    "for address_id in not_yet_visited[:]:\n",
    "    current_address = df[df.id==address_id]\n",
    "#     print(current_address)\n",
    "#     print(address_id)\n",
    "    \n",
    "    min_distance = math.inf\n",
    "    potential_group = None\n",
    "    \n",
    "    for group in groups:\n",
    "        if len(group) < ADDRESSES_PER_ROUTE:\n",
    "            for temp_address_id in group:\n",
    "                temp_address = df[df.id==temp_address_id]\n",
    "                distance = get_distance(temp_address, current_address)\n",
    "                if distance < min_distance:\n",
    "                    min_distance = distance\n",
    "                    potential_group = group\n",
    "#     print(min_distance)\n",
    "#     if min_distance < 0.5:\n",
    "    potential_group.append(address_id)\n",
    "        \n",
    "for g in groups:\n",
    "    print(g)"
   ]
  },
  {
   "cell_type": "code",
   "execution_count": 36,
   "metadata": {},
   "outputs": [
    {
     "data": {
      "text/plain": [
       "<matplotlib.axes._subplots.AxesSubplot at 0x12dd154e0>"
      ]
     },
     "execution_count": 36,
     "metadata": {},
     "output_type": "execute_result"
    },
    {
     "data": {
      "image/png": "[encoded data removed]",
      "text/plain": [
       "<Figure size 720x720 with 2 Axes>"
      ]
     },
     "metadata": {},
     "output_type": "display_data"
    }
   ],
   "source": [
    "group_num = 0\n",
    "\n",
    "for group in groups:\n",
    "    for address_id in group:\n",
    "        df.loc[df['id'] == address_id, 'group_num'] = group_num\n",
    "    group_num += 1\n",
    "\n",
    "\n",
    "plt.rcParams[\"figure.figsize\"]=10,10\n",
    "df.plot.scatter(x = 'latitude', y = 'longitude', c='group_num', s=15, cmap='Paired')"
   ]
  },
  {
   "cell_type": "code",
   "execution_count": 37,
   "metadata": {},
   "outputs": [
    {
     "data": {
      "text/html": [
       "<div>\n",
       "<style scoped>\n",
       "    .dataframe tbody tr th:only-of-type {\n",
       "        vertical-align: middle;\n",
       "    }\n",
       "\n",
       "    .dataframe tbody tr th {\n",
       "        vertical-align: top;\n",
       "    }\n",
       "\n",
       "    .dataframe thead th {\n",
       "        text-align: right;\n",
       "    }\n",
       "</style>\n",
       "<table border=\"1\" class=\"dataframe\">\n",
       "  <thead>\n",
       "    <tr style=\"text-align: right;\">\n",
       "      <th></th>\n",
       "      <th>id</th>\n",
       "      <th>latitude</th>\n",
       "      <th>longitude</th>\n",
       "      <th>visited</th>\n",
       "      <th>group_num</th>\n",
       "    </tr>\n",
       "  </thead>\n",
       "  <tbody>\n",
       "    <tr>\n",
       "      <th>0</th>\n",
       "      <td>402</td>\n",
       "      <td>32.092894</td>\n",
       "      <td>34.836495</td>\n",
       "      <td>False</td>\n",
       "      <td>12.0</td>\n",
       "    </tr>\n",
       "    <tr>\n",
       "      <th>1</th>\n",
       "      <td>403</td>\n",
       "      <td>32.057278</td>\n",
       "      <td>34.775397</td>\n",
       "      <td>False</td>\n",
       "      <td>10.0</td>\n",
       "    </tr>\n",
       "    <tr>\n",
       "      <th>2</th>\n",
       "      <td>404</td>\n",
       "      <td>32.048285</td>\n",
       "      <td>34.792465</td>\n",
       "      <td>False</td>\n",
       "      <td>2.0</td>\n",
       "    </tr>\n",
       "    <tr>\n",
       "      <th>3</th>\n",
       "      <td>405</td>\n",
       "      <td>32.048297</td>\n",
       "      <td>34.789984</td>\n",
       "      <td>False</td>\n",
       "      <td>2.0</td>\n",
       "    </tr>\n",
       "    <tr>\n",
       "      <th>4</th>\n",
       "      <td>406</td>\n",
       "      <td>32.052074</td>\n",
       "      <td>34.788454</td>\n",
       "      <td>False</td>\n",
       "      <td>0.0</td>\n",
       "    </tr>\n",
       "    <tr>\n",
       "      <th>...</th>\n",
       "      <td>...</td>\n",
       "      <td>...</td>\n",
       "      <td>...</td>\n",
       "      <td>...</td>\n",
       "      <td>...</td>\n",
       "    </tr>\n",
       "    <tr>\n",
       "      <th>147</th>\n",
       "      <td>558</td>\n",
       "      <td>32.052512</td>\n",
       "      <td>34.787760</td>\n",
       "      <td>True</td>\n",
       "      <td>5.0</td>\n",
       "    </tr>\n",
       "    <tr>\n",
       "      <th>148</th>\n",
       "      <td>559</td>\n",
       "      <td>32.053304</td>\n",
       "      <td>34.791953</td>\n",
       "      <td>False</td>\n",
       "      <td>11.0</td>\n",
       "    </tr>\n",
       "    <tr>\n",
       "      <th>149</th>\n",
       "      <td>560</td>\n",
       "      <td>32.050543</td>\n",
       "      <td>34.787352</td>\n",
       "      <td>False</td>\n",
       "      <td>12.0</td>\n",
       "    </tr>\n",
       "    <tr>\n",
       "      <th>150</th>\n",
       "      <td>561</td>\n",
       "      <td>32.051088</td>\n",
       "      <td>34.792831</td>\n",
       "      <td>False</td>\n",
       "      <td>12.0</td>\n",
       "    </tr>\n",
       "    <tr>\n",
       "      <th>151</th>\n",
       "      <td>562</td>\n",
       "      <td>32.052182</td>\n",
       "      <td>34.776943</td>\n",
       "      <td>False</td>\n",
       "      <td>12.0</td>\n",
       "    </tr>\n",
       "  </tbody>\n",
       "</table>\n",
       "<p>152 rows × 5 columns</p>\n",
       "</div>"
      ],
      "text/plain": [
       "      id   latitude  longitude  visited  group_num\n",
       "0    402  32.092894  34.836495    False       12.0\n",
       "1    403  32.057278  34.775397    False       10.0\n",
       "2    404  32.048285  34.792465    False        2.0\n",
       "3    405  32.048297  34.789984    False        2.0\n",
       "4    406  32.052074  34.788454    False        0.0\n",
       "..   ...        ...        ...      ...        ...\n",
       "147  558  32.052512  34.787760     True        5.0\n",
       "148  559  32.053304  34.791953    False       11.0\n",
       "149  560  32.050543  34.787352    False       12.0\n",
       "150  561  32.051088  34.792831    False       12.0\n",
       "151  562  32.052182  34.776943    False       12.0\n",
       "\n",
       "[152 rows x 5 columns]"
      ]
     },
     "execution_count": 37,
     "metadata": {},
     "output_type": "execute_result"
    }
   ],
   "source": [
    "df"
   ]
  },
  {
   "cell_type": "code",
   "execution_count": null,
   "metadata": {},
   "outputs": [],
   "source": []
  }
 ],
 "metadata": {
  "kernelspec": {
   "display_name": "Python 3",
   "language": "python",
   "name": "python3"
  },
  "language_info": {
   "codemirror_mode": {
    "name": "ipython",
    "version": 3
   },
   "file_extension": ".py",
   "mimetype": "text/x-python",
   "name": "python",
   "nbconvert_exporter": "python",
   "pygments_lexer": "ipython3",
   "version": "3.7.3"
  }
 },
 "nbformat": 4,
 "nbformat_minor": 4
}
